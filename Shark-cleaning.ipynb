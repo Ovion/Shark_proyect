{
 "cells": [
  {
   "cell_type": "markdown",
   "metadata": {},
   "source": [
    "# Shark attacks data cleaning\n",
    "\n",
    "- Importación de las librerías necesarias"
   ]
  },
  {
   "cell_type": "code",
   "execution_count": 87,
   "metadata": {},
   "outputs": [],
   "source": [
    "import pandas as pd\n",
    "import numpy as np\n",
    "import re\n",
    "import Src.SharkFn as Fn"
   ]
  },
  {
   "cell_type": "markdown",
   "metadata": {},
   "source": [
    "- Creación del data frame Madre"
   ]
  },
  {
   "cell_type": "code",
   "execution_count": 88,
   "metadata": {},
   "outputs": [],
   "source": [
    "df_Madre = pd.read_csv('Input/GSAF5.csv', encoding = \"ISO-8859-1\")"
   ]
  },
  {
   "cell_type": "code",
   "execution_count": 89,
   "metadata": {},
   "outputs": [
    {
     "data": {
      "text/plain": [
       "array(['Case Number', 'Date', 'Year', 'Type', 'Country', 'Area',\n",
       "       'Location', 'Activity', 'Name', 'Sex ', 'Age', 'Injury',\n",
       "       'Fatal (Y/N)', 'Time', 'Species ', 'Investigator or Source', 'pdf',\n",
       "       'href formula', 'href', 'Case Number.1', 'Case Number.2',\n",
       "       'original order', 'Unnamed: 22', 'Unnamed: 23'], dtype=object)"
      ]
     },
     "execution_count": 89,
     "metadata": {},
     "output_type": "execute_result"
    }
   ],
   "source": [
    "df_Madre.columns.values"
   ]
  },
  {
   "cell_type": "code",
   "execution_count": 90,
   "metadata": {},
   "outputs": [
    {
     "name": "stdout",
     "output_type": "stream",
     "text": [
      "(5992, 24)\n"
     ]
    }
   ],
   "source": [
    "print (df_Madre.shape)"
   ]
  },
  {
   "cell_type": "code",
   "execution_count": 91,
   "metadata": {},
   "outputs": [
    {
     "data": {
      "text/plain": [
       "Country                     43\n",
       "Area                       402\n",
       "Location                   496\n",
       "Activity                   527\n",
       "Name                       200\n",
       "Sex                        567\n",
       "Age                       2681\n",
       "Injury                      27\n",
       "Fatal (Y/N)                 19\n",
       "Time                      3213\n",
       "Species                   2934\n",
       "Investigator or Source      15\n",
       "href formula                 1\n",
       "href                         3\n",
       "Unnamed: 22               5991\n",
       "Unnamed: 23               5990\n",
       "dtype: int64"
      ]
     },
     "execution_count": 91,
     "metadata": {},
     "output_type": "execute_result"
    }
   ],
   "source": [
    "null_cols = df_Madre.isnull().sum()\n",
    "null_cols\n",
    "null_cols[null_cols > 0]"
   ]
  },
  {
   "cell_type": "code",
   "execution_count": 92,
   "metadata": {},
   "outputs": [
    {
     "name": "stdout",
     "output_type": "stream",
     "text": [
      "N          4315\n",
      "Y          1552\n",
      "UNKNOWN      94\n",
      " N            8\n",
      "N             1\n",
      "#VALUE!       1\n",
      "F             1\n",
      "n             1\n",
      "Name: Fatal (Y/N), dtype: int64\n"
     ]
    }
   ],
   "source": [
    "# set(df_Madre['Activity']) # **!**\n",
    "# set(df_Madre['Time']) # **!**\n",
    "# set(df_Madre['Species ']) # **!**\n",
    "# set(df_Madre['Country']) # **!**\n",
    "\n",
    "# print(df_Madre['Type'].value_counts())\n",
    "# print(df_Madre['Sex '].value_counts())\n",
    "print(df_Madre['Fatal (Y/N)'].value_counts())\n",
    "\n",
    "# set(df_Madre['Date'])\n",
    "# set(df_Madre['Year'])\n",
    "\n",
    "# set(df_Madre['Area'])\n",
    "# set(df_Madre['Location'])\n",
    "\n",
    "# set(df_Madre['Name'])\n",
    "# set(df_Madre['Age'])\n",
    "# set(df_Madre['Injury'])\n",
    "\n",
    "    #-----------#\n",
    "#          set(df_Madre['Case Number'])\n",
    "        \n",
    "        # set(df_Madre['Investigator or Source'])\n",
    "        # set(df_Madre['pdf'])\n",
    "        # set(df_Madre['href formula'])\n",
    "        # set(df_Madre['href'])\n",
    "        # set(df_Madre['Case Number.1'])\n",
    "        # set(df_Madre['Case Number.2'])\n",
    "        # set(df_Madre['original order'])\n",
    "        # set(df_Madre['Unnamed: 22'])\n",
    "        # set(df_Madre['Unnamed: 23'])"
   ]
  },
  {
   "cell_type": "code",
   "execution_count": 93,
   "metadata": {},
   "outputs": [],
   "source": [
    "to_drop = ['Investigator or Source','pdf','href formula','href',\n",
    "           'Case Number.1','Case Number.2','original order','Unnamed: 22','Unnamed: 23']\n",
    "df_raw = df_Madre\n",
    "df_raw.drop(to_drop, inplace=True, axis=1)\n"
   ]
  },
  {
   "cell_type": "code",
   "execution_count": 94,
   "metadata": {},
   "outputs": [
    {
     "data": {
      "text/plain": [
       "array(['Case Number', 'Date', 'Year', 'Type', 'Country', 'Area',\n",
       "       'Location', 'Activity', 'Name', 'Sex', 'Age', 'Injury', 'Fatal',\n",
       "       'Time', 'Species'], dtype=object)"
      ]
     },
     "execution_count": 94,
     "metadata": {},
     "output_type": "execute_result"
    }
   ],
   "source": [
    "df_raw.rename(columns = {'Species ': 'Species',\n",
    "                        'Sex ': 'Sex',\n",
    "                        'Fatal (Y/N)' : 'Fatal'}, inplace=True)\n",
    "df_raw.columns.values"
   ]
  },
  {
   "cell_type": "code",
   "execution_count": 95,
   "metadata": {},
   "outputs": [],
   "source": [
    "def clean_last_ws (serie):\n",
    "    return serie.replace(\"\\s$\", \"\")\n",
    "\n",
    "def clean_first_ws (serie):\n",
    "    return serie.replace(\"^\\s\", \"\")"
   ]
  },
  {
   "cell_type": "code",
   "execution_count": 96,
   "metadata": {},
   "outputs": [
    {
     "data": {
      "text/plain": [
       "{'F', 'M', nan}"
      ]
     },
     "execution_count": 96,
     "metadata": {},
     "output_type": "execute_result"
    }
   ],
   "source": [
    "df_raw.Sex =(clean_last_ws(df_raw.Sex.str))\n",
    "# df_raw.Sex =(Fn.clean_last_ws(df_raw.Sex.str))\n",
    "\n",
    "df_raw.loc[(df_raw.Sex == '.')|\n",
    "           (df_raw.Sex == 'N')|\n",
    "           (df_raw.Sex == 'lli'), 'Sex'] = np.nan\n",
    "\n",
    "df_raw.Sex.value_counts()\n",
    "set(df_raw.Sex.values)"
   ]
  },
  {
   "cell_type": "code",
   "execution_count": 99,
   "metadata": {},
   "outputs": [
    {
     "data": {
      "text/plain": [
       "{'N', 'Y', nan}"
      ]
     },
     "execution_count": 99,
     "metadata": {},
     "output_type": "execute_result"
    }
   ],
   "source": [
    "df_raw.Fatal = (clean_first_ws(df_raw.Fatal.str))\n",
    "df_raw.Fatal = (clean_last_ws(df_raw.Fatal.str))\n",
    "df_raw.Fatal = df_raw.Fatal.str.capitalize()\n",
    "df_raw.loc[(df_raw.Fatal == '#value!')|\n",
    "           (df_raw.Fatal == 'F')|\n",
    "           (df_raw.Fatal =='Unknown'), 'Fatal'] = np.nan\n",
    "set(df_raw.Fatal.values)"
   ]
  },
  {
   "cell_type": "code",
   "execution_count": null,
   "metadata": {},
   "outputs": [],
   "source": []
  },
  {
   "cell_type": "code",
   "execution_count": null,
   "metadata": {},
   "outputs": [],
   "source": []
  },
  {
   "cell_type": "code",
   "execution_count": null,
   "metadata": {},
   "outputs": [],
   "source": []
  },
  {
   "cell_type": "code",
   "execution_count": null,
   "metadata": {},
   "outputs": [],
   "source": []
  },
  {
   "cell_type": "code",
   "execution_count": null,
   "metadata": {},
   "outputs": [],
   "source": [
    "# df_raw.Sex = df_raw.Sex.str.replace(\"\\s$\", \"\")\n",
    "# print(df_Madre['Sex '].value_counts())"
   ]
  },
  {
   "cell_type": "code",
   "execution_count": 21,
   "metadata": {},
   "outputs": [
    {
     "data": {
      "text/plain": [
       "'Hola'"
      ]
     },
     "execution_count": 21,
     "metadata": {},
     "output_type": "execute_result"
    }
   ],
   "source": [
    "text = \"Hola \"\n",
    "textCC = re.sub(\"\\s$\", \"\", text)\n",
    "textCC"
   ]
  },
  {
   "cell_type": "code",
   "execution_count": null,
   "metadata": {},
   "outputs": [],
   "source": [
    "df_raw = df_Madre\n",
    "\n",
    "def fun(*args,**kwargs):\n",
    "    print(\"Generic FN:\")\n",
    "    print(\"\\tArgs\", args)\n",
    "    print(\"\\tKwargs\", kwargs)\n",
    "    \n",
    "def clean_last_ws (serie):\n",
    "    aux = re.sub(\"\\s$\", \"\", serie)\n",
    "    return aux\n",
    "    \n",
    "new = df_raw[[\"Sex \"]].values.tolist()\n",
    "new\n",
    "aux = re.sub(\"\\s$\", \"\", *new)\n",
    "aux"
   ]
  }
 ],
 "metadata": {
  "kernelspec": {
   "display_name": "Python 3",
   "language": "python",
   "name": "python3"
  },
  "language_info": {
   "codemirror_mode": {
    "name": "ipython",
    "version": 3
   },
   "file_extension": ".py",
   "mimetype": "text/x-python",
   "name": "python",
   "nbconvert_exporter": "python",
   "pygments_lexer": "ipython3",
   "version": "3.6.8"
  }
 },
 "nbformat": 4,
 "nbformat_minor": 2
}
